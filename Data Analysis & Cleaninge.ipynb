{
 "cells": [
  {
   "cell_type": "markdown",
   "metadata": {},
   "source": [
    "# Modules Imports"
   ]
  },
  {
   "cell_type": "code",
   "execution_count": 1,
   "metadata": {},
   "outputs": [],
   "source": [
    "import pandas as pd\n",
    "import numpy as np\n",
    "import matplotlib.pyplot as plt\n",
    "import datetime as dt\n",
    "\n",
    "from sklearn.impute import SimpleImputer\n",
    "from sklearn.pipeline import Pipeline\n",
    "from sklearn.preprocessing import StandardScaler\n",
    "from sklearn.preprocessing import OrdinalEncoder\n",
    "\n",
    "%matplotlib inline"
   ]
  },
  {
   "cell_type": "markdown",
   "metadata": {},
   "source": [
    "# Loading the Data"
   ]
  },
  {
   "cell_type": "code",
   "execution_count": 34,
   "metadata": {},
   "outputs": [],
   "source": [
    "df_training_data = pd.read_csv(r'C:\\Users\\Maxime\\Documents\\Formation\\Coding\\ML\\BCG Forage\\Task 2\\ml_case_training_data.csv')\n",
    "df_training_hist_data = pd.read_csv(r'C:\\Users\\Maxime\\Documents\\Formation\\Coding\\ML\\BCG Forage\\Task 2\\ml_case_training_hist_data.csv')\n",
    "df_training_output = pd.read_csv(r'C:\\Users\\Maxime\\Documents\\Formation\\Coding\\ML\\BCG Forage\\Task 2\\ml_case_training_output.csv')"
   ]
  },
  {
   "cell_type": "code",
   "execution_count": 4,
   "metadata": {},
   "outputs": [
    {
     "data": {
      "text/html": [
       "<div>\n",
       "<style scoped>\n",
       "    .dataframe tbody tr th:only-of-type {\n",
       "        vertical-align: middle;\n",
       "    }\n",
       "\n",
       "    .dataframe tbody tr th {\n",
       "        vertical-align: top;\n",
       "    }\n",
       "\n",
       "    .dataframe thead th {\n",
       "        text-align: right;\n",
       "    }\n",
       "</style>\n",
       "<table border=\"1\" class=\"dataframe\">\n",
       "  <thead>\n",
       "    <tr style=\"text-align: right;\">\n",
       "      <th></th>\n",
       "      <th>id</th>\n",
       "      <th>activity_new</th>\n",
       "      <th>campaign_disc_ele</th>\n",
       "      <th>channel_sales</th>\n",
       "      <th>cons_12m</th>\n",
       "      <th>cons_gas_12m</th>\n",
       "      <th>cons_last_month</th>\n",
       "      <th>date_activ</th>\n",
       "      <th>date_end</th>\n",
       "      <th>date_first_activ</th>\n",
       "      <th>...</th>\n",
       "      <th>forecast_price_pow_p1</th>\n",
       "      <th>has_gas</th>\n",
       "      <th>imp_cons</th>\n",
       "      <th>margin_gross_pow_ele</th>\n",
       "      <th>margin_net_pow_ele</th>\n",
       "      <th>nb_prod_act</th>\n",
       "      <th>net_margin</th>\n",
       "      <th>num_years_antig</th>\n",
       "      <th>origin_up</th>\n",
       "      <th>pow_max</th>\n",
       "    </tr>\n",
       "  </thead>\n",
       "  <tbody>\n",
       "    <tr>\n",
       "      <th>0</th>\n",
       "      <td>48ada52261e7cf58715202705a0451c9</td>\n",
       "      <td>esoiiifxdlbkcsluxmfuacbdckommixw</td>\n",
       "      <td>NaN</td>\n",
       "      <td>lmkebamcaaclubfxadlmueccxoimlema</td>\n",
       "      <td>309275</td>\n",
       "      <td>0</td>\n",
       "      <td>10025</td>\n",
       "      <td>2012-11-07</td>\n",
       "      <td>2016-11-06</td>\n",
       "      <td>NaN</td>\n",
       "      <td>...</td>\n",
       "      <td>58.995952</td>\n",
       "      <td>f</td>\n",
       "      <td>831.8</td>\n",
       "      <td>-41.76</td>\n",
       "      <td>-41.76</td>\n",
       "      <td>1</td>\n",
       "      <td>1732.36</td>\n",
       "      <td>3</td>\n",
       "      <td>ldkssxwpmemidmecebumciepifcamkci</td>\n",
       "      <td>180.000</td>\n",
       "    </tr>\n",
       "    <tr>\n",
       "      <th>1</th>\n",
       "      <td>24011ae4ebbe3035111d65fa7c15bc57</td>\n",
       "      <td>NaN</td>\n",
       "      <td>NaN</td>\n",
       "      <td>foosdfpfkusacimwkcsosbicdxkicaua</td>\n",
       "      <td>0</td>\n",
       "      <td>54946</td>\n",
       "      <td>0</td>\n",
       "      <td>2013-06-15</td>\n",
       "      <td>2016-06-15</td>\n",
       "      <td>NaN</td>\n",
       "      <td>...</td>\n",
       "      <td>40.606701</td>\n",
       "      <td>t</td>\n",
       "      <td>0.0</td>\n",
       "      <td>25.44</td>\n",
       "      <td>25.44</td>\n",
       "      <td>2</td>\n",
       "      <td>678.99</td>\n",
       "      <td>3</td>\n",
       "      <td>lxidpiddsbxsbosboudacockeimpuepw</td>\n",
       "      <td>43.648</td>\n",
       "    </tr>\n",
       "    <tr>\n",
       "      <th>2</th>\n",
       "      <td>d29c2c54acc38ff3c0614d0a653813dd</td>\n",
       "      <td>NaN</td>\n",
       "      <td>NaN</td>\n",
       "      <td>NaN</td>\n",
       "      <td>4660</td>\n",
       "      <td>0</td>\n",
       "      <td>0</td>\n",
       "      <td>2009-08-21</td>\n",
       "      <td>2016-08-30</td>\n",
       "      <td>NaN</td>\n",
       "      <td>...</td>\n",
       "      <td>44.311378</td>\n",
       "      <td>f</td>\n",
       "      <td>0.0</td>\n",
       "      <td>16.38</td>\n",
       "      <td>16.38</td>\n",
       "      <td>1</td>\n",
       "      <td>18.89</td>\n",
       "      <td>6</td>\n",
       "      <td>kamkkxfxxuwbdslkwifmmcsiusiuosws</td>\n",
       "      <td>13.800</td>\n",
       "    </tr>\n",
       "    <tr>\n",
       "      <th>3</th>\n",
       "      <td>764c75f661154dac3a6c254cd082ea7d</td>\n",
       "      <td>NaN</td>\n",
       "      <td>NaN</td>\n",
       "      <td>foosdfpfkusacimwkcsosbicdxkicaua</td>\n",
       "      <td>544</td>\n",
       "      <td>0</td>\n",
       "      <td>0</td>\n",
       "      <td>2010-04-16</td>\n",
       "      <td>2016-04-16</td>\n",
       "      <td>NaN</td>\n",
       "      <td>...</td>\n",
       "      <td>44.311378</td>\n",
       "      <td>f</td>\n",
       "      <td>0.0</td>\n",
       "      <td>28.60</td>\n",
       "      <td>28.60</td>\n",
       "      <td>1</td>\n",
       "      <td>6.60</td>\n",
       "      <td>6</td>\n",
       "      <td>kamkkxfxxuwbdslkwifmmcsiusiuosws</td>\n",
       "      <td>13.856</td>\n",
       "    </tr>\n",
       "    <tr>\n",
       "      <th>4</th>\n",
       "      <td>bba03439a292a1e166f80264c16191cb</td>\n",
       "      <td>NaN</td>\n",
       "      <td>NaN</td>\n",
       "      <td>lmkebamcaaclubfxadlmueccxoimlema</td>\n",
       "      <td>1584</td>\n",
       "      <td>0</td>\n",
       "      <td>0</td>\n",
       "      <td>2010-03-30</td>\n",
       "      <td>2016-03-30</td>\n",
       "      <td>NaN</td>\n",
       "      <td>...</td>\n",
       "      <td>44.311378</td>\n",
       "      <td>f</td>\n",
       "      <td>0.0</td>\n",
       "      <td>30.22</td>\n",
       "      <td>30.22</td>\n",
       "      <td>1</td>\n",
       "      <td>25.46</td>\n",
       "      <td>6</td>\n",
       "      <td>kamkkxfxxuwbdslkwifmmcsiusiuosws</td>\n",
       "      <td>13.200</td>\n",
       "    </tr>\n",
       "  </tbody>\n",
       "</table>\n",
       "<p>5 rows × 32 columns</p>\n",
       "</div>"
      ],
      "text/plain": [
       "                                 id                      activity_new  \\\n",
       "0  48ada52261e7cf58715202705a0451c9  esoiiifxdlbkcsluxmfuacbdckommixw   \n",
       "1  24011ae4ebbe3035111d65fa7c15bc57                               NaN   \n",
       "2  d29c2c54acc38ff3c0614d0a653813dd                               NaN   \n",
       "3  764c75f661154dac3a6c254cd082ea7d                               NaN   \n",
       "4  bba03439a292a1e166f80264c16191cb                               NaN   \n",
       "\n",
       "   campaign_disc_ele                     channel_sales  cons_12m  \\\n",
       "0                NaN  lmkebamcaaclubfxadlmueccxoimlema    309275   \n",
       "1                NaN  foosdfpfkusacimwkcsosbicdxkicaua         0   \n",
       "2                NaN                               NaN      4660   \n",
       "3                NaN  foosdfpfkusacimwkcsosbicdxkicaua       544   \n",
       "4                NaN  lmkebamcaaclubfxadlmueccxoimlema      1584   \n",
       "\n",
       "   cons_gas_12m  cons_last_month  date_activ    date_end date_first_activ  \\\n",
       "0             0            10025  2012-11-07  2016-11-06              NaN   \n",
       "1         54946                0  2013-06-15  2016-06-15              NaN   \n",
       "2             0                0  2009-08-21  2016-08-30              NaN   \n",
       "3             0                0  2010-04-16  2016-04-16              NaN   \n",
       "4             0                0  2010-03-30  2016-03-30              NaN   \n",
       "\n",
       "   ... forecast_price_pow_p1 has_gas  imp_cons  margin_gross_pow_ele  \\\n",
       "0  ...             58.995952       f     831.8                -41.76   \n",
       "1  ...             40.606701       t       0.0                 25.44   \n",
       "2  ...             44.311378       f       0.0                 16.38   \n",
       "3  ...             44.311378       f       0.0                 28.60   \n",
       "4  ...             44.311378       f       0.0                 30.22   \n",
       "\n",
       "   margin_net_pow_ele  nb_prod_act  net_margin  num_years_antig  \\\n",
       "0              -41.76            1     1732.36                3   \n",
       "1               25.44            2      678.99                3   \n",
       "2               16.38            1       18.89                6   \n",
       "3               28.60            1        6.60                6   \n",
       "4               30.22            1       25.46                6   \n",
       "\n",
       "                          origin_up  pow_max  \n",
       "0  ldkssxwpmemidmecebumciepifcamkci  180.000  \n",
       "1  lxidpiddsbxsbosboudacockeimpuepw   43.648  \n",
       "2  kamkkxfxxuwbdslkwifmmcsiusiuosws   13.800  \n",
       "3  kamkkxfxxuwbdslkwifmmcsiusiuosws   13.856  \n",
       "4  kamkkxfxxuwbdslkwifmmcsiusiuosws   13.200  \n",
       "\n",
       "[5 rows x 32 columns]"
      ]
     },
     "execution_count": 4,
     "metadata": {},
     "output_type": "execute_result"
    }
   ],
   "source": [
    "df_training_data.head()"
   ]
  },
  {
   "cell_type": "code",
   "execution_count": 5,
   "metadata": {},
   "outputs": [
    {
     "data": {
      "text/html": [
       "<div>\n",
       "<style scoped>\n",
       "    .dataframe tbody tr th:only-of-type {\n",
       "        vertical-align: middle;\n",
       "    }\n",
       "\n",
       "    .dataframe tbody tr th {\n",
       "        vertical-align: top;\n",
       "    }\n",
       "\n",
       "    .dataframe thead th {\n",
       "        text-align: right;\n",
       "    }\n",
       "</style>\n",
       "<table border=\"1\" class=\"dataframe\">\n",
       "  <thead>\n",
       "    <tr style=\"text-align: right;\">\n",
       "      <th></th>\n",
       "      <th>id</th>\n",
       "      <th>price_date</th>\n",
       "      <th>price_p1_var</th>\n",
       "      <th>price_p2_var</th>\n",
       "      <th>price_p3_var</th>\n",
       "      <th>price_p1_fix</th>\n",
       "      <th>price_p2_fix</th>\n",
       "      <th>price_p3_fix</th>\n",
       "    </tr>\n",
       "  </thead>\n",
       "  <tbody>\n",
       "    <tr>\n",
       "      <th>0</th>\n",
       "      <td>038af19179925da21a25619c5a24b745</td>\n",
       "      <td>2015-01-01</td>\n",
       "      <td>0.151367</td>\n",
       "      <td>0.0</td>\n",
       "      <td>0.0</td>\n",
       "      <td>44.266931</td>\n",
       "      <td>0.0</td>\n",
       "      <td>0.0</td>\n",
       "    </tr>\n",
       "    <tr>\n",
       "      <th>1</th>\n",
       "      <td>038af19179925da21a25619c5a24b745</td>\n",
       "      <td>2015-02-01</td>\n",
       "      <td>0.151367</td>\n",
       "      <td>0.0</td>\n",
       "      <td>0.0</td>\n",
       "      <td>44.266931</td>\n",
       "      <td>0.0</td>\n",
       "      <td>0.0</td>\n",
       "    </tr>\n",
       "    <tr>\n",
       "      <th>2</th>\n",
       "      <td>038af19179925da21a25619c5a24b745</td>\n",
       "      <td>2015-03-01</td>\n",
       "      <td>0.151367</td>\n",
       "      <td>0.0</td>\n",
       "      <td>0.0</td>\n",
       "      <td>44.266931</td>\n",
       "      <td>0.0</td>\n",
       "      <td>0.0</td>\n",
       "    </tr>\n",
       "    <tr>\n",
       "      <th>3</th>\n",
       "      <td>038af19179925da21a25619c5a24b745</td>\n",
       "      <td>2015-04-01</td>\n",
       "      <td>0.149626</td>\n",
       "      <td>0.0</td>\n",
       "      <td>0.0</td>\n",
       "      <td>44.266931</td>\n",
       "      <td>0.0</td>\n",
       "      <td>0.0</td>\n",
       "    </tr>\n",
       "    <tr>\n",
       "      <th>4</th>\n",
       "      <td>038af19179925da21a25619c5a24b745</td>\n",
       "      <td>2015-05-01</td>\n",
       "      <td>0.149626</td>\n",
       "      <td>0.0</td>\n",
       "      <td>0.0</td>\n",
       "      <td>44.266931</td>\n",
       "      <td>0.0</td>\n",
       "      <td>0.0</td>\n",
       "    </tr>\n",
       "  </tbody>\n",
       "</table>\n",
       "</div>"
      ],
      "text/plain": [
       "                                 id  price_date  price_p1_var  price_p2_var  \\\n",
       "0  038af19179925da21a25619c5a24b745  2015-01-01      0.151367           0.0   \n",
       "1  038af19179925da21a25619c5a24b745  2015-02-01      0.151367           0.0   \n",
       "2  038af19179925da21a25619c5a24b745  2015-03-01      0.151367           0.0   \n",
       "3  038af19179925da21a25619c5a24b745  2015-04-01      0.149626           0.0   \n",
       "4  038af19179925da21a25619c5a24b745  2015-05-01      0.149626           0.0   \n",
       "\n",
       "   price_p3_var  price_p1_fix  price_p2_fix  price_p3_fix  \n",
       "0           0.0     44.266931           0.0           0.0  \n",
       "1           0.0     44.266931           0.0           0.0  \n",
       "2           0.0     44.266931           0.0           0.0  \n",
       "3           0.0     44.266931           0.0           0.0  \n",
       "4           0.0     44.266931           0.0           0.0  "
      ]
     },
     "execution_count": 5,
     "metadata": {},
     "output_type": "execute_result"
    }
   ],
   "source": [
    "df_training_hist_data.head()"
   ]
  },
  {
   "cell_type": "code",
   "execution_count": 6,
   "metadata": {},
   "outputs": [
    {
     "data": {
      "text/html": [
       "<div>\n",
       "<style scoped>\n",
       "    .dataframe tbody tr th:only-of-type {\n",
       "        vertical-align: middle;\n",
       "    }\n",
       "\n",
       "    .dataframe tbody tr th {\n",
       "        vertical-align: top;\n",
       "    }\n",
       "\n",
       "    .dataframe thead th {\n",
       "        text-align: right;\n",
       "    }\n",
       "</style>\n",
       "<table border=\"1\" class=\"dataframe\">\n",
       "  <thead>\n",
       "    <tr style=\"text-align: right;\">\n",
       "      <th></th>\n",
       "      <th>id</th>\n",
       "      <th>churn</th>\n",
       "    </tr>\n",
       "  </thead>\n",
       "  <tbody>\n",
       "    <tr>\n",
       "      <th>0</th>\n",
       "      <td>48ada52261e7cf58715202705a0451c9</td>\n",
       "      <td>0</td>\n",
       "    </tr>\n",
       "    <tr>\n",
       "      <th>1</th>\n",
       "      <td>24011ae4ebbe3035111d65fa7c15bc57</td>\n",
       "      <td>1</td>\n",
       "    </tr>\n",
       "    <tr>\n",
       "      <th>2</th>\n",
       "      <td>d29c2c54acc38ff3c0614d0a653813dd</td>\n",
       "      <td>0</td>\n",
       "    </tr>\n",
       "    <tr>\n",
       "      <th>3</th>\n",
       "      <td>764c75f661154dac3a6c254cd082ea7d</td>\n",
       "      <td>0</td>\n",
       "    </tr>\n",
       "    <tr>\n",
       "      <th>4</th>\n",
       "      <td>bba03439a292a1e166f80264c16191cb</td>\n",
       "      <td>0</td>\n",
       "    </tr>\n",
       "  </tbody>\n",
       "</table>\n",
       "</div>"
      ],
      "text/plain": [
       "                                 id  churn\n",
       "0  48ada52261e7cf58715202705a0451c9      0\n",
       "1  24011ae4ebbe3035111d65fa7c15bc57      1\n",
       "2  d29c2c54acc38ff3c0614d0a653813dd      0\n",
       "3  764c75f661154dac3a6c254cd082ea7d      0\n",
       "4  bba03439a292a1e166f80264c16191cb      0"
      ]
     },
     "execution_count": 6,
     "metadata": {},
     "output_type": "execute_result"
    }
   ],
   "source": [
    "df_training_output.head()"
   ]
  },
  {
   "cell_type": "markdown",
   "metadata": {},
   "source": [
    "# 1. 1. Data Cleaning\n",
    "## 1.1 - Training data"
   ]
  },
  {
   "cell_type": "code",
   "execution_count": 7,
   "metadata": {},
   "outputs": [
    {
     "name": "stdout",
     "output_type": "stream",
     "text": [
      "<class 'pandas.core.frame.DataFrame'>\n",
      "RangeIndex: 16096 entries, 0 to 16095\n",
      "Data columns (total 32 columns):\n",
      " #   Column                    Non-Null Count  Dtype  \n",
      "---  ------                    --------------  -----  \n",
      " 0   id                        16096 non-null  object \n",
      " 1   activity_new              6551 non-null   object \n",
      " 2   campaign_disc_ele         0 non-null      float64\n",
      " 3   channel_sales             11878 non-null  object \n",
      " 4   cons_12m                  16096 non-null  int64  \n",
      " 5   cons_gas_12m              16096 non-null  int64  \n",
      " 6   cons_last_month           16096 non-null  int64  \n",
      " 7   date_activ                16096 non-null  object \n",
      " 8   date_end                  16094 non-null  object \n",
      " 9   date_first_activ          3508 non-null   object \n",
      " 10  date_modif_prod           15939 non-null  object \n",
      " 11  date_renewal              16056 non-null  object \n",
      " 12  forecast_base_bill_ele    3508 non-null   float64\n",
      " 13  forecast_base_bill_year   3508 non-null   float64\n",
      " 14  forecast_bill_12m         3508 non-null   float64\n",
      " 15  forecast_cons             3508 non-null   float64\n",
      " 16  forecast_cons_12m         16096 non-null  float64\n",
      " 17  forecast_cons_year        16096 non-null  int64  \n",
      " 18  forecast_discount_energy  15970 non-null  float64\n",
      " 19  forecast_meter_rent_12m   16096 non-null  float64\n",
      " 20  forecast_price_energy_p1  15970 non-null  float64\n",
      " 21  forecast_price_energy_p2  15970 non-null  float64\n",
      " 22  forecast_price_pow_p1     15970 non-null  float64\n",
      " 23  has_gas                   16096 non-null  object \n",
      " 24  imp_cons                  16096 non-null  float64\n",
      " 25  margin_gross_pow_ele      16083 non-null  float64\n",
      " 26  margin_net_pow_ele        16083 non-null  float64\n",
      " 27  nb_prod_act               16096 non-null  int64  \n",
      " 28  net_margin                16081 non-null  float64\n",
      " 29  num_years_antig           16096 non-null  int64  \n",
      " 30  origin_up                 16009 non-null  object \n",
      " 31  pow_max                   16093 non-null  float64\n",
      "dtypes: float64(16), int64(6), object(10)\n",
      "memory usage: 3.9+ MB\n"
     ]
    }
   ],
   "source": [
    "df_training_data.info()"
   ]
  },
  {
   "cell_type": "code",
   "execution_count": 8,
   "metadata": {},
   "outputs": [],
   "source": [
    "# We drop the columns with not enough values (~80% or more of the data missing)\n",
    "df_training_data = df_training_data.drop(['campaign_disc_ele', 'forecast_base_bill_ele', 'forecast_base_bill_year', 'forecast_bill_12m', 'forecast_cons', 'activity_new'], axis = 1)"
   ]
  },
  {
   "cell_type": "code",
   "execution_count": 9,
   "metadata": {},
   "outputs": [],
   "source": [
    "# Filling missing values\n",
    "\n",
    "num_df = df_training_data[['forecast_discount_energy', 'forecast_price_energy_p1', 'forecast_price_energy_p2', 'forecast_price_pow_p1', 'margin_gross_pow_ele', 'net_margin', 'pow_max']]\n",
    "categorical_df = df_training_data[['channel_sales', 'has_gas', 'origin_up']]\n",
    "\n",
    "imputer_most_frequent = SimpleImputer(strategy = 'most_frequent')\n",
    "imputer_median = SimpleImputer(strategy = 'median')\n",
    "\n",
    "    ##Categorical values\n",
    "df_training_data[['channel_sales', 'has_gas', 'origin_up']] = imputer_most_frequent.fit_transform(categorical_df)\n",
    "\n",
    "    ##Numerical Values\n",
    "df_training_data[['forecast_discount_energy', \n",
    "                  'forecast_price_energy_p1', \n",
    "                  'forecast_price_energy_p2', \n",
    "                  'forecast_price_pow_p1', \n",
    "                  'margin_gross_pow_ele', \n",
    "                  'net_margin', \n",
    "                  'pow_max']] = imputer_median.fit_transform(num_df)"
   ]
  },
  {
   "cell_type": "code",
   "execution_count": 10,
   "metadata": {},
   "outputs": [],
   "source": [
    "#Another alternative would be to delete the row with NaN values as there is a small number of them.\n",
    "\n",
    "sub = ['forecast_discount_energy', \n",
    "                  'forecast_price_energy_p1', \n",
    "                  'forecast_price_energy_p2', \n",
    "                  'forecast_price_pow_p1', \n",
    "                  'margin_gross_pow_ele', \n",
    "                  'net_margin', \n",
    "                  'pow_max']\n",
    "\n",
    "df_training_data.dropna(subset = sub, inplace = True)"
   ]
  },
  {
   "cell_type": "code",
   "execution_count": 11,
   "metadata": {},
   "outputs": [
    {
     "name": "stdout",
     "output_type": "stream",
     "text": [
      "channel_sales                   \n",
      "foosdfpfkusacimwkcsosbicdxkicaua    11595\n",
      "lmkebamcaaclubfxadlmueccxoimlema     2073\n",
      "usilxuppasemubllopkaafesmlibmsdf     1444\n",
      "ewpakwlliwisiwduibdlfmalxowmwpci      966\n",
      "sddiedcslfslkckwlfkdpoeeailfpeds       12\n",
      "epumfxlbckeskwekxbiuasklxalciiuu        4\n",
      "fixdbufsefwooaasfcxdxadsiekoceaa        2\n",
      "dtype: int64\n",
      "----------------------------------------------\n",
      "has_gas\n",
      "f          13132\n",
      "t           2964\n",
      "dtype: int64\n",
      "----------------------------------------------\n",
      "channel_sales                   \n",
      "foosdfpfkusacimwkcsosbicdxkicaua    11595\n",
      "lmkebamcaaclubfxadlmueccxoimlema     2073\n",
      "usilxuppasemubllopkaafesmlibmsdf     1444\n",
      "ewpakwlliwisiwduibdlfmalxowmwpci      966\n",
      "sddiedcslfslkckwlfkdpoeeailfpeds       12\n",
      "epumfxlbckeskwekxbiuasklxalciiuu        4\n",
      "fixdbufsefwooaasfcxdxadsiekoceaa        2\n",
      "dtype: int64\n"
     ]
    }
   ],
   "source": [
    "#Encoding of the categorical data\n",
    "\n",
    "channel_sales = df_training_data[['channel_sales']]\n",
    "is_gas_client = df_training_data[['has_gas']]\n",
    "original_company_subscription = df_training_data[['origin_up']]\n",
    "\n",
    "print(channel_sales.value_counts())\n",
    "print('----------------------------------------------')\n",
    "print(is_gas_client.value_counts())\n",
    "print('----------------------------------------------')\n",
    "print(channel_sales.value_counts())"
   ]
  },
  {
   "cell_type": "code",
   "execution_count": 12,
   "metadata": {},
   "outputs": [],
   "source": [
    "categorical_encoder = OrdinalEncoder()\n",
    "df_training_data[['channel_sales', 'has_gas', 'origin_up']] = categorical_encoder.fit_transform(df_training_data[['channel_sales', 'has_gas', 'origin_up']])"
   ]
  },
  {
   "cell_type": "code",
   "execution_count": 13,
   "metadata": {},
   "outputs": [],
   "source": [
    "dates_columns = ['date_activ', 'date_end', 'date_first_activ', 'date_modif_prod', 'date_renewal']\n",
    "\n",
    "df_training_data[dates_columns] = df_training_data[dates_columns].apply(pd.to_datetime)"
   ]
  },
  {
   "cell_type": "markdown",
   "metadata": {},
   "source": [
    "## 1.2. Training Hist Data"
   ]
  },
  {
   "cell_type": "code",
   "execution_count": 14,
   "metadata": {},
   "outputs": [
    {
     "name": "stdout",
     "output_type": "stream",
     "text": [
      "<class 'pandas.core.frame.DataFrame'>\n",
      "RangeIndex: 193002 entries, 0 to 193001\n",
      "Data columns (total 8 columns):\n",
      " #   Column        Non-Null Count   Dtype  \n",
      "---  ------        --------------   -----  \n",
      " 0   id            193002 non-null  object \n",
      " 1   price_date    193002 non-null  object \n",
      " 2   price_p1_var  191643 non-null  float64\n",
      " 3   price_p2_var  191643 non-null  float64\n",
      " 4   price_p3_var  191643 non-null  float64\n",
      " 5   price_p1_fix  191643 non-null  float64\n",
      " 6   price_p2_fix  191643 non-null  float64\n",
      " 7   price_p3_fix  191643 non-null  float64\n",
      "dtypes: float64(6), object(2)\n",
      "memory usage: 11.8+ MB\n"
     ]
    }
   ],
   "source": [
    "df_training_hist_data.info()"
   ]
  },
  {
   "cell_type": "code",
   "execution_count": 35,
   "metadata": {},
   "outputs": [],
   "source": [
    "#There is enough data so we delete rows with Nan values\n",
    "\n",
    "sub = list(df_training_hist_data.columns)[2:]\n",
    "df_training_hist_data.dropna(subset = sub, inplace = True)"
   ]
  },
  {
   "cell_type": "markdown",
   "metadata": {},
   "source": [
    "## 1.3 Training Outputs"
   ]
  },
  {
   "cell_type": "code",
   "execution_count": 16,
   "metadata": {},
   "outputs": [
    {
     "name": "stdout",
     "output_type": "stream",
     "text": [
      "<class 'pandas.core.frame.DataFrame'>\n",
      "RangeIndex: 16096 entries, 0 to 16095\n",
      "Data columns (total 2 columns):\n",
      " #   Column  Non-Null Count  Dtype \n",
      "---  ------  --------------  ----- \n",
      " 0   id      16096 non-null  object\n",
      " 1   churn   16096 non-null  int64 \n",
      "dtypes: int64(1), object(1)\n",
      "memory usage: 251.6+ KB\n"
     ]
    }
   ],
   "source": [
    "df_training_output.info()"
   ]
  },
  {
   "cell_type": "code",
   "execution_count": 17,
   "metadata": {},
   "outputs": [],
   "source": [
    "df_training = pd.merge(df_training_data, df_training_output, on = 'id')"
   ]
  },
  {
   "cell_type": "markdown",
   "metadata": {},
   "source": [
    "# 2. Data Visualization"
   ]
  },
  {
   "cell_type": "code",
   "execution_count": 18,
   "metadata": {},
   "outputs": [
    {
     "data": {
      "text/plain": [
       "0    14501\n",
       "1     1595\n",
       "Name: churn, dtype: int64"
      ]
     },
     "execution_count": 18,
     "metadata": {},
     "output_type": "execute_result"
    }
   ],
   "source": [
    "df_training_output['churn'].value_counts()"
   ]
  },
  {
   "cell_type": "code",
   "execution_count": 19,
   "metadata": {},
   "outputs": [
    {
     "data": {
      "text/html": [
       "<div>\n",
       "<style scoped>\n",
       "    .dataframe tbody tr th:only-of-type {\n",
       "        vertical-align: middle;\n",
       "    }\n",
       "\n",
       "    .dataframe tbody tr th {\n",
       "        vertical-align: top;\n",
       "    }\n",
       "\n",
       "    .dataframe thead th {\n",
       "        text-align: right;\n",
       "    }\n",
       "</style>\n",
       "<table border=\"1\" class=\"dataframe\">\n",
       "  <thead>\n",
       "    <tr style=\"text-align: right;\">\n",
       "      <th></th>\n",
       "      <th>channel_sales</th>\n",
       "      <th>cons_12m</th>\n",
       "      <th>cons_gas_12m</th>\n",
       "      <th>cons_last_month</th>\n",
       "      <th>forecast_cons_12m</th>\n",
       "      <th>forecast_cons_year</th>\n",
       "      <th>forecast_discount_energy</th>\n",
       "      <th>forecast_meter_rent_12m</th>\n",
       "      <th>forecast_price_energy_p1</th>\n",
       "      <th>forecast_price_energy_p2</th>\n",
       "      <th>...</th>\n",
       "      <th>has_gas</th>\n",
       "      <th>imp_cons</th>\n",
       "      <th>margin_gross_pow_ele</th>\n",
       "      <th>margin_net_pow_ele</th>\n",
       "      <th>nb_prod_act</th>\n",
       "      <th>net_margin</th>\n",
       "      <th>num_years_antig</th>\n",
       "      <th>origin_up</th>\n",
       "      <th>pow_max</th>\n",
       "      <th>churn</th>\n",
       "    </tr>\n",
       "  </thead>\n",
       "  <tbody>\n",
       "    <tr>\n",
       "      <th>count</th>\n",
       "      <td>16096.000000</td>\n",
       "      <td>1.609600e+04</td>\n",
       "      <td>1.609600e+04</td>\n",
       "      <td>1.609600e+04</td>\n",
       "      <td>16096.000000</td>\n",
       "      <td>16096.000000</td>\n",
       "      <td>16096.000000</td>\n",
       "      <td>16096.000000</td>\n",
       "      <td>16096.000000</td>\n",
       "      <td>16096.000000</td>\n",
       "      <td>...</td>\n",
       "      <td>16096.000000</td>\n",
       "      <td>16096.000000</td>\n",
       "      <td>16096.000000</td>\n",
       "      <td>16083.000000</td>\n",
       "      <td>16096.000000</td>\n",
       "      <td>16096.000000</td>\n",
       "      <td>16096.000000</td>\n",
       "      <td>16096.000000</td>\n",
       "      <td>16096.000000</td>\n",
       "      <td>16096.000000</td>\n",
       "    </tr>\n",
       "    <tr>\n",
       "      <th>mean</th>\n",
       "      <td>3.278516</td>\n",
       "      <td>1.948044e+05</td>\n",
       "      <td>3.191164e+04</td>\n",
       "      <td>1.946154e+04</td>\n",
       "      <td>2370.555949</td>\n",
       "      <td>1907.347229</td>\n",
       "      <td>0.983785</td>\n",
       "      <td>70.309945</td>\n",
       "      <td>0.135955</td>\n",
       "      <td>0.053211</td>\n",
       "      <td>...</td>\n",
       "      <td>0.184145</td>\n",
       "      <td>196.123447</td>\n",
       "      <td>22.461168</td>\n",
       "      <td>21.460318</td>\n",
       "      <td>1.347788</td>\n",
       "      <td>217.895415</td>\n",
       "      <td>5.030629</td>\n",
       "      <td>2.211046</td>\n",
       "      <td>20.602873</td>\n",
       "      <td>0.099093</td>\n",
       "    </tr>\n",
       "    <tr>\n",
       "      <th>std</th>\n",
       "      <td>1.050759</td>\n",
       "      <td>6.795151e+05</td>\n",
       "      <td>1.775885e+05</td>\n",
       "      <td>8.235676e+04</td>\n",
       "      <td>4035.085664</td>\n",
       "      <td>5257.364759</td>\n",
       "      <td>5.141470</td>\n",
       "      <td>79.023251</td>\n",
       "      <td>0.026157</td>\n",
       "      <td>0.048515</td>\n",
       "      <td>...</td>\n",
       "      <td>0.387615</td>\n",
       "      <td>494.366979</td>\n",
       "      <td>23.691341</td>\n",
       "      <td>27.917349</td>\n",
       "      <td>1.459808</td>\n",
       "      <td>366.583368</td>\n",
       "      <td>1.676101</td>\n",
       "      <td>0.853481</td>\n",
       "      <td>21.770587</td>\n",
       "      <td>0.298796</td>\n",
       "    </tr>\n",
       "    <tr>\n",
       "      <th>min</th>\n",
       "      <td>0.000000</td>\n",
       "      <td>-1.252760e+05</td>\n",
       "      <td>-3.037000e+03</td>\n",
       "      <td>-9.138600e+04</td>\n",
       "      <td>-16689.260000</td>\n",
       "      <td>-85627.000000</td>\n",
       "      <td>0.000000</td>\n",
       "      <td>-242.960000</td>\n",
       "      <td>0.000000</td>\n",
       "      <td>0.000000</td>\n",
       "      <td>...</td>\n",
       "      <td>0.000000</td>\n",
       "      <td>-9038.210000</td>\n",
       "      <td>-525.540000</td>\n",
       "      <td>-615.660000</td>\n",
       "      <td>1.000000</td>\n",
       "      <td>-4148.990000</td>\n",
       "      <td>1.000000</td>\n",
       "      <td>0.000000</td>\n",
       "      <td>1.000000</td>\n",
       "      <td>0.000000</td>\n",
       "    </tr>\n",
       "    <tr>\n",
       "      <th>25%</th>\n",
       "      <td>3.000000</td>\n",
       "      <td>5.906250e+03</td>\n",
       "      <td>0.000000e+00</td>\n",
       "      <td>0.000000e+00</td>\n",
       "      <td>513.230000</td>\n",
       "      <td>0.000000</td>\n",
       "      <td>0.000000</td>\n",
       "      <td>16.230000</td>\n",
       "      <td>0.115237</td>\n",
       "      <td>0.000000</td>\n",
       "      <td>...</td>\n",
       "      <td>0.000000</td>\n",
       "      <td>0.000000</td>\n",
       "      <td>12.025000</td>\n",
       "      <td>11.950000</td>\n",
       "      <td>1.000000</td>\n",
       "      <td>52.017500</td>\n",
       "      <td>4.000000</td>\n",
       "      <td>1.000000</td>\n",
       "      <td>12.500000</td>\n",
       "      <td>0.000000</td>\n",
       "    </tr>\n",
       "    <tr>\n",
       "      <th>50%</th>\n",
       "      <td>3.000000</td>\n",
       "      <td>1.533250e+04</td>\n",
       "      <td>0.000000e+00</td>\n",
       "      <td>9.010000e+02</td>\n",
       "      <td>1179.160000</td>\n",
       "      <td>378.000000</td>\n",
       "      <td>0.000000</td>\n",
       "      <td>19.440000</td>\n",
       "      <td>0.142881</td>\n",
       "      <td>0.086163</td>\n",
       "      <td>...</td>\n",
       "      <td>0.000000</td>\n",
       "      <td>44.465000</td>\n",
       "      <td>21.090000</td>\n",
       "      <td>20.970000</td>\n",
       "      <td>1.000000</td>\n",
       "      <td>119.680000</td>\n",
       "      <td>5.000000</td>\n",
       "      <td>2.000000</td>\n",
       "      <td>13.856000</td>\n",
       "      <td>0.000000</td>\n",
       "    </tr>\n",
       "    <tr>\n",
       "      <th>75%</th>\n",
       "      <td>3.000000</td>\n",
       "      <td>5.022150e+04</td>\n",
       "      <td>0.000000e+00</td>\n",
       "      <td>4.127000e+03</td>\n",
       "      <td>2692.077500</td>\n",
       "      <td>1994.250000</td>\n",
       "      <td>0.000000</td>\n",
       "      <td>131.470000</td>\n",
       "      <td>0.146348</td>\n",
       "      <td>0.098837</td>\n",
       "      <td>...</td>\n",
       "      <td>0.000000</td>\n",
       "      <td>218.090000</td>\n",
       "      <td>29.640000</td>\n",
       "      <td>29.640000</td>\n",
       "      <td>1.000000</td>\n",
       "      <td>275.735000</td>\n",
       "      <td>6.000000</td>\n",
       "      <td>3.000000</td>\n",
       "      <td>19.800000</td>\n",
       "      <td>0.000000</td>\n",
       "    </tr>\n",
       "    <tr>\n",
       "      <th>max</th>\n",
       "      <td>6.000000</td>\n",
       "      <td>1.609711e+07</td>\n",
       "      <td>4.188440e+06</td>\n",
       "      <td>4.538720e+06</td>\n",
       "      <td>103801.930000</td>\n",
       "      <td>175375.000000</td>\n",
       "      <td>50.000000</td>\n",
       "      <td>2411.690000</td>\n",
       "      <td>0.273963</td>\n",
       "      <td>0.195975</td>\n",
       "      <td>...</td>\n",
       "      <td>1.000000</td>\n",
       "      <td>15042.790000</td>\n",
       "      <td>374.640000</td>\n",
       "      <td>374.640000</td>\n",
       "      <td>32.000000</td>\n",
       "      <td>24570.650000</td>\n",
       "      <td>16.000000</td>\n",
       "      <td>4.000000</td>\n",
       "      <td>500.000000</td>\n",
       "      <td>1.000000</td>\n",
       "    </tr>\n",
       "  </tbody>\n",
       "</table>\n",
       "<p>8 rows × 21 columns</p>\n",
       "</div>"
      ],
      "text/plain": [
       "       channel_sales      cons_12m  cons_gas_12m  cons_last_month  \\\n",
       "count   16096.000000  1.609600e+04  1.609600e+04     1.609600e+04   \n",
       "mean        3.278516  1.948044e+05  3.191164e+04     1.946154e+04   \n",
       "std         1.050759  6.795151e+05  1.775885e+05     8.235676e+04   \n",
       "min         0.000000 -1.252760e+05 -3.037000e+03    -9.138600e+04   \n",
       "25%         3.000000  5.906250e+03  0.000000e+00     0.000000e+00   \n",
       "50%         3.000000  1.533250e+04  0.000000e+00     9.010000e+02   \n",
       "75%         3.000000  5.022150e+04  0.000000e+00     4.127000e+03   \n",
       "max         6.000000  1.609711e+07  4.188440e+06     4.538720e+06   \n",
       "\n",
       "       forecast_cons_12m  forecast_cons_year  forecast_discount_energy  \\\n",
       "count       16096.000000        16096.000000              16096.000000   \n",
       "mean         2370.555949         1907.347229                  0.983785   \n",
       "std          4035.085664         5257.364759                  5.141470   \n",
       "min        -16689.260000       -85627.000000                  0.000000   \n",
       "25%           513.230000            0.000000                  0.000000   \n",
       "50%          1179.160000          378.000000                  0.000000   \n",
       "75%          2692.077500         1994.250000                  0.000000   \n",
       "max        103801.930000       175375.000000                 50.000000   \n",
       "\n",
       "       forecast_meter_rent_12m  forecast_price_energy_p1  \\\n",
       "count             16096.000000              16096.000000   \n",
       "mean                 70.309945                  0.135955   \n",
       "std                  79.023251                  0.026157   \n",
       "min                -242.960000                  0.000000   \n",
       "25%                  16.230000                  0.115237   \n",
       "50%                  19.440000                  0.142881   \n",
       "75%                 131.470000                  0.146348   \n",
       "max                2411.690000                  0.273963   \n",
       "\n",
       "       forecast_price_energy_p2  ...       has_gas      imp_cons  \\\n",
       "count              16096.000000  ...  16096.000000  16096.000000   \n",
       "mean                   0.053211  ...      0.184145    196.123447   \n",
       "std                    0.048515  ...      0.387615    494.366979   \n",
       "min                    0.000000  ...      0.000000  -9038.210000   \n",
       "25%                    0.000000  ...      0.000000      0.000000   \n",
       "50%                    0.086163  ...      0.000000     44.465000   \n",
       "75%                    0.098837  ...      0.000000    218.090000   \n",
       "max                    0.195975  ...      1.000000  15042.790000   \n",
       "\n",
       "       margin_gross_pow_ele  margin_net_pow_ele   nb_prod_act    net_margin  \\\n",
       "count          16096.000000        16083.000000  16096.000000  16096.000000   \n",
       "mean              22.461168           21.460318      1.347788    217.895415   \n",
       "std               23.691341           27.917349      1.459808    366.583368   \n",
       "min             -525.540000         -615.660000      1.000000  -4148.990000   \n",
       "25%               12.025000           11.950000      1.000000     52.017500   \n",
       "50%               21.090000           20.970000      1.000000    119.680000   \n",
       "75%               29.640000           29.640000      1.000000    275.735000   \n",
       "max              374.640000          374.640000     32.000000  24570.650000   \n",
       "\n",
       "       num_years_antig     origin_up       pow_max         churn  \n",
       "count     16096.000000  16096.000000  16096.000000  16096.000000  \n",
       "mean          5.030629      2.211046     20.602873      0.099093  \n",
       "std           1.676101      0.853481     21.770587      0.298796  \n",
       "min           1.000000      0.000000      1.000000      0.000000  \n",
       "25%           4.000000      1.000000     12.500000      0.000000  \n",
       "50%           5.000000      2.000000     13.856000      0.000000  \n",
       "75%           6.000000      3.000000     19.800000      0.000000  \n",
       "max          16.000000      4.000000    500.000000      1.000000  \n",
       "\n",
       "[8 rows x 21 columns]"
      ]
     },
     "execution_count": 19,
     "metadata": {},
     "output_type": "execute_result"
    }
   ],
   "source": [
    "df_training.describe()"
   ]
  },
  {
   "cell_type": "code",
   "execution_count": 20,
   "metadata": {},
   "outputs": [
    {
     "data": {
      "image/png": "[encoded data removed]",
      "text/plain": [
       "<Figure size 1440x1080 with 30 Axes>"
      ]
     },
     "metadata": {
      "needs_background": "light"
     },
     "output_type": "display_data"
    }
   ],
   "source": [
    "df_training.hist(bins=50, figsize=(20,15))\n",
    "plt.show()"
   ]
  },
  {
   "cell_type": "markdown",
   "metadata": {},
   "source": [
    "The distribution of most of the features is quite skewed. \\\n",
    "\\\n",
    "On top of that, we spot negative values which we could understand as energy being produces. We can think of clients having solar panels or other source of energy"
   ]
  },
  {
   "cell_type": "markdown",
   "metadata": {},
   "source": [
    "# Correlation"
   ]
  },
  {
   "cell_type": "code",
   "execution_count": 21,
   "metadata": {},
   "outputs": [
    {
     "data": {
      "text/plain": [
       "num_years_antig            -0.071565\n",
       "cons_12m                   -0.051759\n",
       "cons_last_month            -0.046931\n",
       "cons_gas_12m               -0.040880\n",
       "has_gas                    -0.032033\n",
       "nb_prod_act                -0.022609\n",
       "channel_sales              -0.008358\n",
       "forecast_price_energy_p1   -0.001432\n",
       "forecast_cons_year          0.002756\n",
       "imp_cons                    0.003417\n",
       "forecast_price_pow_p1       0.005024\n",
       "forecast_cons_12m           0.007395\n",
       "pow_max                     0.009475\n",
       "forecast_discount_energy    0.010833\n",
       "net_margin                  0.029389\n",
       "forecast_meter_rent_12m     0.029971\n",
       "forecast_price_energy_p2    0.029979\n",
       "margin_net_pow_ele          0.063187\n",
       "margin_gross_pow_ele        0.080170\n",
       "origin_up                   0.100714\n",
       "churn                       1.000000\n",
       "Name: churn, dtype: float64"
      ]
     },
     "execution_count": 21,
     "metadata": {},
     "output_type": "execute_result"
    }
   ],
   "source": [
    "corr_matrix = df_training.corr()\n",
    "corr_matrix['churn'].sort_values()"
   ]
  },
  {
   "cell_type": "markdown",
   "metadata": {},
   "source": [
    "Eventhough this gives us a little bit more information, the churn feature is a categorical feature. Thus, one must studied further the features to extract all of the information needed and to highlight the core features that will be used for our model"
   ]
  },
  {
   "cell_type": "markdown",
   "metadata": {},
   "source": [
    "# Churn Percentage"
   ]
  },
  {
   "cell_type": "code",
   "execution_count": 22,
   "metadata": {},
   "outputs": [
    {
     "name": "stdout",
     "output_type": "stream",
     "text": [
      "0    90.090706\n",
      "1     9.909294\n",
      "Name: churn, dtype: float64\n"
     ]
    }
   ],
   "source": [
    "print(df_training['churn'].value_counts()/df_training['churn'].shape[0]*100)\n",
    "df1 = pd.DataFrame(df_training['churn'].value_counts()/df_training['churn'].shape[0]*100)"
   ]
  },
  {
   "cell_type": "code",
   "execution_count": 23,
   "metadata": {},
   "outputs": [
    {
     "data": {
      "image/png": "[encoded data removed]",
      "text/plain": [
       "<Figure size 504x720 with 1 Axes>"
      ]
     },
     "metadata": {
      "needs_background": "light"
     },
     "output_type": "display_data"
    }
   ],
   "source": [
    "ax=df1.transpose().plot(kind=\"bar\", stacked=True,figsize=(7, 10), rot = 0)\n",
    "plt.legend(['Not Churned', 'Churned'])\n",
    "plt.grid()\n",
    "plt.title('Percentage of churn')\n",
    "plt.show()"
   ]
  },
  {
   "cell_type": "markdown",
   "metadata": {},
   "source": [
    "**90%** of the clients have maintained their contract while about **10%** of them has churned."
   ]
  },
  {
   "cell_type": "markdown",
   "metadata": {},
   "source": [
    "# Churn and Channel Sales"
   ]
  },
  {
   "cell_type": "code",
   "execution_count": 24,
   "metadata": {},
   "outputs": [],
   "source": [
    "df2_ = df_training[['id', 'channel_sales', 'churn']]\n",
    "total = df2_[['id', 'channel_sales']].groupby('channel_sales').count()\n",
    "\n",
    "df2 = df2_[df2_['churn']==1].groupby(['channel_sales']).count()/total[total>100].dropna()*100  "
   ]
  },
  {
   "cell_type": "code",
   "execution_count": 25,
   "metadata": {},
   "outputs": [
    {
     "data": {
      "image/png": "[encoded data removed]",
      "text/plain": [
       "<Figure size 504x720 with 1 Axes>"
      ]
     },
     "metadata": {
      "needs_background": "light"
     },
     "output_type": "display_data"
    }
   ],
   "source": [
    "ax=df2.transpose().plot(kind=\"bar\", stacked=False,figsize=(7, 10), rot = 0)\n",
    "plt.legend(df2.reset_index()['channel_sales'])\n",
    "plt.grid()\n",
    "plt.title('Percentage of churn by channel sales')\n",
    "plt.show()"
   ]
  },
  {
   "cell_type": "markdown",
   "metadata": {},
   "source": [
    "The churn rate is **more correlated** with 3 of the sale channels."
   ]
  },
  {
   "cell_type": "markdown",
   "metadata": {},
   "source": [
    "# Gas Subscription"
   ]
  },
  {
   "cell_type": "code",
   "execution_count": 26,
   "metadata": {},
   "outputs": [],
   "source": [
    "df3 = df_training[df_training['churn'] == 1][['id', 'has_gas', 'churn']]\n",
    "df3 = df3.groupby(['has_gas', 'churn']).count()/df_training.shape[0]*100"
   ]
  },
  {
   "cell_type": "code",
   "execution_count": 27,
   "metadata": {},
   "outputs": [
    {
     "data": {
      "image/png": "[encoded data removed]",
      "text/plain": [
       "<Figure size 504x720 with 1 Axes>"
      ]
     },
     "metadata": {
      "needs_background": "light"
     },
     "output_type": "display_data"
    }
   ],
   "source": [
    "ax=df3.transpose().plot(kind=\"bar\", stacked=False,figsize=(7, 10), rot = 0)\n",
    "plt.legend(['Gas Subscribed', 'Not subscribed'])\n",
    "plt.grid()\n",
    "plt.title('Percentage of churn by gas subscription')\n",
    "plt.show()"
   ]
  },
  {
   "cell_type": "code",
   "execution_count": 28,
   "metadata": {},
   "outputs": [
    {
     "data": {
      "image/png": "[encoded data removed]",
      "text/plain": [
       "<Figure size 504x720 with 1 Axes>"
      ]
     },
     "metadata": {
      "needs_background": "light"
     },
     "output_type": "display_data"
    }
   ],
   "source": [
    "df4 = df_training[['id', 'has_gas']]\n",
    "df4 = df4.groupby(['has_gas']).count()/df_training.shape[0]*100\n",
    "\n",
    "ax=df4.transpose().plot(kind=\"bar\", stacked=False,figsize=(7, 10), rot = 0)\n",
    "plt.legend(['Gas Subscribed', 'Not subscribed'])\n",
    "plt.grid()\n",
    "plt.title('Repartition of the gas subscription')\n",
    "plt.show()"
   ]
  },
  {
   "cell_type": "markdown",
   "metadata": {},
   "source": [
    "We see there is no major difference in the repartition of the two features, which lead us to believe, the gas subscription is not as important as other features determined earlier."
   ]
  },
  {
   "cell_type": "markdown",
   "metadata": {},
   "source": [
    "# Consumption Temporal Features"
   ]
  },
  {
   "cell_type": "code",
   "execution_count": 29,
   "metadata": {},
   "outputs": [
    {
     "data": {
      "image/png": "[encoded data removed]",
      "text/plain": [
       "<Figure size 432x288 with 1 Axes>"
      ]
     },
     "metadata": {
      "needs_background": "light"
     },
     "output_type": "display_data"
    }
   ],
   "source": [
    "plt.hist(df_training['date_activ'], 50)\n",
    "plt.grid()\n",
    "plt.show()"
   ]
  },
  {
   "cell_type": "code",
   "execution_count": 30,
   "metadata": {},
   "outputs": [
    {
     "name": "stderr",
     "output_type": "stream",
     "text": [
      "C:\\Users\\Maxime\\Anaconda3\\lib\\site-packages\\numpy\\lib\\histograms.py:839: RuntimeWarning: invalid value encountered in greater_equal\n",
      "  keep = (tmp_a >= first_edge)\n",
      "C:\\Users\\Maxime\\Anaconda3\\lib\\site-packages\\numpy\\lib\\histograms.py:840: RuntimeWarning: invalid value encountered in less_equal\n",
      "  keep &= (tmp_a <= last_edge)\n"
     ]
    },
    {
     "data": {
      "image/png": "[encoded data removed]",
      "text/plain": [
       "<Figure size 432x288 with 1 Axes>"
      ]
     },
     "metadata": {
      "needs_background": "light"
     },
     "output_type": "display_data"
    }
   ],
   "source": [
    "plt.hist(df_training['date_end'], 50)\n",
    "plt.grid()\n",
    "plt.show()"
   ]
  },
  {
   "cell_type": "markdown",
   "metadata": {},
   "source": [
    "There is a lot more data visualization we could have done but to stay in the format of the exercise and to not go too much overtime we will stop here.\n",
    "However, here is a few ideas to go further : \n",
    "- Look deeply into the date features and see if there is a specific event in time that causes churn. \n",
    "- Study the activity on the different scale of time and see if they reveal anything about the churn phenomenon.\n",
    "- Procede similarly with the forecast.\n"
   ]
  },
  {
   "cell_type": "code",
   "execution_count": 36,
   "metadata": {},
   "outputs": [],
   "source": [
    "df_training_hist_data.to_csv('training_data_hist.csv')"
   ]
  },
  {
   "cell_type": "code",
   "execution_count": null,
   "metadata": {},
   "outputs": [],
   "source": []
  }
 ],
 "metadata": {
  "kernelspec": {
   "display_name": "Python 3",
   "language": "python",
   "name": "python3"
  },
  "language_info": {
   "codemirror_mode": {
    "name": "ipython",
    "version": 3
   },
   "file_extension": ".py",
   "mimetype": "text/x-python",
   "name": "python",
   "nbconvert_exporter": "python",
   "pygments_lexer": "ipython3",
   "version": "3.7.3"
  }
 },
 "nbformat": 4,
 "nbformat_minor": 4
}
